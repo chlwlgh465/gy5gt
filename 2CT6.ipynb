{
  "nbformat": 4,
  "nbformat_minor": 0,
  "metadata": {
    "colab": {
      "provenance": [],
      "authorship_tag": "ABX9TyPTmv9aL2kapNcZgWkV6OlF",
      "include_colab_link": true
    },
    "kernelspec": {
      "name": "python3",
      "display_name": "Python 3"
    },
    "language_info": {
      "name": "python"
    }
  },
  "cells": [
    {
      "cell_type": "markdown",
      "metadata": {
        "id": "view-in-github",
        "colab_type": "text"
      },
      "source": [
        "<a href=\"https://colab.research.google.com/github/chlwlgh465/gy5gt/blob/main/2CT6.ipynb\" target=\"_parent\"><img src=\"https://colab.research.google.com/assets/colab-badge.svg\" alt=\"Open In Colab\"/></a>"
      ]
    },
    {
      "cell_type": "code",
      "execution_count": null,
      "metadata": {
        "id": "dPvqYcdfXxXX"
      },
      "outputs": [],
      "source": []
    },
    {
      "cell_type": "code",
      "source": [
        "total = 0                                        #total값 0에서 시작\n",
        "counter = 1 \n",
        "while counter <= 10:                             #10번 반복하여라\n",
        "     grade= int(input('점수를 입력하시오:'))     #점수를 점수로 입력하여라\n",
        "     total = grade + total                       #total에 입력값을 더하고 저장\n",
        "     counter = counter + 1                       #반복횟수 저장\n",
        "average = total/10                               #10개로 평균값을 나누어라\n",
        "print(average)2                                  #average값 출력"
      ],
      "metadata": {
        "colab": {
          "base_uri": "https://localhost:8080/"
        },
        "id": "yN3IRpLsX5UM",
        "outputId": "ce65ccdb-f89b-4417-901d-d509adf18cb7"
      },
      "execution_count": 5,
      "outputs": [
        {
          "output_type": "stream",
          "name": "stdout",
          "text": [
            "점수를 입력하시오:100\n",
            "점수를 입력하시오:90\n",
            "점수를 입력하시오:80\n",
            "점수를 입력하시오:70\n",
            "점수를 입력하시오:60\n",
            "점수를 입력하시오:50\n",
            "점수를 입력하시오:40\n",
            "점수를 입력하시오:30\n",
            "점수를 입력하시오:20\n",
            "점수를 입력하시오:10\n",
            "55.0\n"
          ]
        }
      ]
    },
    {
      "cell_type": "markdown",
      "source": [
        "학생 10명의 성적을 입력받아 평균을 계산하는 알고리즘을 의사코드로 표현해보자"
      ],
      "metadata": {
        "id": "BWWt7my2XzCD"
      }
    }
  ]
}