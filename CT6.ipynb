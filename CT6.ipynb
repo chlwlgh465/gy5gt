{
  "nbformat": 4,
  "nbformat_minor": 0,
  "metadata": {
    "colab": {
      "provenance": [],
      "authorship_tag": "ABX9TyMe0Ml0bBWqIQlzErcfbqj+",
      "include_colab_link": true
    },
    "kernelspec": {
      "name": "python3",
      "display_name": "Python 3"
    },
    "language_info": {
      "name": "python"
    }
  },
  "cells": [
    {
      "cell_type": "markdown",
      "metadata": {
        "id": "view-in-github",
        "colab_type": "text"
      },
      "source": [
        "<a href=\"https://colab.research.google.com/github/chlwlgh465/gy5gt/blob/main/CT6.ipynb\" target=\"_parent\"><img src=\"https://colab.research.google.com/assets/colab-badge.svg\" alt=\"Open In Colab\"/></a>"
      ]
    },
    {
      "cell_type": "code",
      "execution_count": null,
      "metadata": {
        "id": "-g549kBd4DyD"
      },
      "outputs": [],
      "source": []
    },
    {
      "cell_type": "code",
      "source": [
        "n1=int(input('n1의 값을 입력하시오.')) \n",
        "n2=int(input('n2의 값을 입력하시오.'))\n",
        "n3=int(input('n3의 값을 입력하시오.'))\n",
        "total=n1+n2+n3\n",
        "average= total/3\n",
        "print('합=',total, '평균=' ,average)\n"
      ],
      "metadata": {
        "id": "dtuWyBx5x2Sh",
        "outputId": "faae2e93-3f00-4016-e024-349e7a0a7e28",
        "colab": {
          "base_uri": "https://localhost:8080/"
        }
      },
      "execution_count": 1,
      "outputs": [
        {
          "output_type": "stream",
          "name": "stdout",
          "text": [
            "n1의 값을 입력하시오.4\n",
            "n2의 값을 입력하시오.4\n",
            "n3의 값을 입력하시오.4\n",
            "합= 12 평균= 4.0\n"
          ]
        }
      ]
    }
  ]
}